{
 "cells": [
  {
   "cell_type": "code",
   "execution_count": 4,
   "id": "11b57c8c",
   "metadata": {},
   "outputs": [
    {
     "name": "stdout",
     "output_type": "stream",
     "text": [
      "hori=2024, deep=800465, multiply result=1620141160\n"
     ]
    }
   ],
   "source": [
    "with open('./input.txt', 'r') as f:\n",
    "    lines = f.readlines() \n",
    "    \n",
    "    hori = 0 \n",
    "    deep = 0 \n",
    "    aim = 0\n",
    "    \n",
    "    file_size = len(lines)\n",
    "\n",
    "    for i in range(file_size):\n",
    "        \n",
    "        direction, number = lines[i].split(' ')[0], int(lines[i].split(' ')[1])\n",
    "        \n",
    "        if direction == 'forward':\n",
    "            hori += number\n",
    "            deep += aim * number \n",
    "        else:\n",
    "            number = number if direction == 'down' else number * -1\n",
    "            aim += number \n",
    "            \n",
    "print(f'hori={hori}, deep={deep}, multiply result={hori*deep}')"
   ]
  },
  {
   "cell_type": "code",
   "execution_count": null,
   "id": "29dcfc5c",
   "metadata": {},
   "outputs": [],
   "source": []
  }
 ],
 "metadata": {
  "kernelspec": {
   "display_name": "Python 3 (ipykernel)",
   "language": "python",
   "name": "python3"
  },
  "language_info": {
   "codemirror_mode": {
    "name": "ipython",
    "version": 3
   },
   "file_extension": ".py",
   "mimetype": "text/x-python",
   "name": "python",
   "nbconvert_exporter": "python",
   "pygments_lexer": "ipython3",
   "version": "3.9.7"
  },
  "toc": {
   "base_numbering": 1,
   "nav_menu": {},
   "number_sections": true,
   "sideBar": true,
   "skip_h1_title": false,
   "title_cell": "Table of Contents",
   "title_sidebar": "Contents",
   "toc_cell": false,
   "toc_position": {},
   "toc_section_display": true,
   "toc_window_display": false
  }
 },
 "nbformat": 4,
 "nbformat_minor": 5
}
