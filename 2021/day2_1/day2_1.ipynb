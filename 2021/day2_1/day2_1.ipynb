{
 "cells": [
  {
   "cell_type": "code",
   "execution_count": 5,
   "id": "bff13f8f",
   "metadata": {},
   "outputs": [
    {
     "name": "stdout",
     "output_type": "stream",
     "text": [
      "sum1=2024, sum2=717, multiply result=1451208\n"
     ]
    }
   ],
   "source": [
    "with open('./input.txt', 'r') as f:\n",
    "    lines = f.readlines() \n",
    "    \n",
    "    sum1 = 0 \n",
    "    sum2 = 0 \n",
    "    \n",
    "    file_size = len(lines)\n",
    "\n",
    "    for i in range(file_size):\n",
    "        \n",
    "        direction, number = lines[i].split(' ')[0], int(lines[i].split(' ')[1])\n",
    "        \n",
    "        if direction == 'forward':\n",
    "            sum1 += number\n",
    "        else:\n",
    "            number = number if direction == 'down' else number * -1\n",
    "            sum2 += number \n",
    "            \n",
    "print(f'sum1={sum1}, sum2={sum2}, multiply result={sum1*sum2}')"
   ]
  },
  {
   "cell_type": "code",
   "execution_count": null,
   "id": "4cc6b521",
   "metadata": {},
   "outputs": [],
   "source": []
  }
 ],
 "metadata": {
  "kernelspec": {
   "display_name": "Python 3 (ipykernel)",
   "language": "python",
   "name": "python3"
  },
  "language_info": {
   "codemirror_mode": {
    "name": "ipython",
    "version": 3
   },
   "file_extension": ".py",
   "mimetype": "text/x-python",
   "name": "python",
   "nbconvert_exporter": "python",
   "pygments_lexer": "ipython3",
   "version": "3.9.7"
  },
  "toc": {
   "base_numbering": 1,
   "nav_menu": {},
   "number_sections": true,
   "sideBar": true,
   "skip_h1_title": false,
   "title_cell": "Table of Contents",
   "title_sidebar": "Contents",
   "toc_cell": false,
   "toc_position": {},
   "toc_section_display": true,
   "toc_window_display": false
  }
 },
 "nbformat": 4,
 "nbformat_minor": 5
}
