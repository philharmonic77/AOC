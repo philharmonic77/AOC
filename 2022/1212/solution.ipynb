{
 "cells": [
  {
   "cell_type": "markdown",
   "id": "ed5cc06b",
   "metadata": {},
   "source": [
    "## part1"
   ]
  },
  {
   "cell_type": "code",
   "execution_count": 1,
   "id": "88c5005b",
   "metadata": {},
   "outputs": [
    {
     "name": "stdout",
     "output_type": "stream",
     "text": [
      "449\n"
     ]
    }
   ],
   "source": [
    "f = open(\"input.txt\", \"r\")\n",
    "lines = f.readlines()\n",
    "lines = [line.strip() for line in lines]\n",
    "f.close()\n",
    "\n",
    "max_x = len(lines)\n",
    "max_y = len(lines[0])\n",
    "\n",
    "queue = [] ## 广度优先搜索，queue是搜索队列\n",
    "\n",
    "for i in range(max_x):\n",
    "    for j in range(max_y):\n",
    "        if lines[i][j] == \"S\":\n",
    "            queue.append((0, i, j))  ## 确定起点\n",
    "            \n",
    "def get_ord(s):\n",
    "    if s == \"S\":\n",
    "        return ord(\"a\")\n",
    "    elif s == \"E\":\n",
    "        return ord(\"z\")\n",
    "    return ord(s) \n",
    "            \n",
    "def get_neighbors(i, j, max_x, max_y):\n",
    "    \"\"\"\n",
    "    max_x, max_y 边缘坐标 ; i, j 当前坐标 \n",
    "    \n",
    "    \"\"\"\n",
    "    four_neighbors = [(i+1, j), (i-1, j), (i, j+1), (i, j-1)] \n",
    "    for neighbor_x, neighbor_y in four_neighbors:\n",
    "        if 0<= neighbor_x < max_x and 0 <= neighbor_y < max_y:\n",
    "            yield neighbor_x, neighbor_y\n",
    "            \n",
    "visited = set()\n",
    "            \n",
    "for (nsteps, i, j) in queue:  \n",
    "    if lines[i][j] == \"E\":\n",
    "        print(nsteps)  ## nstep，并非一次循环为一步，每次所搜完距离起点同等距离的所有可能性后，nsteps才会加1\n",
    "        break \n",
    "    else:\n",
    "        for neighbor_x, neighbor_y in get_neighbors(i, j, max_x, max_y):\n",
    "            if (neighbor_x, neighbor_y) not in visited and get_ord(lines[neighbor_x][neighbor_y]) - get_ord(lines[i][j]) <= 1:\n",
    "                visited.add((neighbor_x, neighbor_y))\n",
    "                queue.append((nsteps+1, neighbor_x, neighbor_y))\n",
    "            "
   ]
  },
  {
   "cell_type": "markdown",
   "id": "21ee8e79",
   "metadata": {},
   "source": [
    "## part2"
   ]
  },
  {
   "cell_type": "code",
   "execution_count": 2,
   "id": "959d2a59",
   "metadata": {},
   "outputs": [
    {
     "name": "stdout",
     "output_type": "stream",
     "text": [
      "443\n"
     ]
    }
   ],
   "source": [
    "queue = []\n",
    "visited = set()\n",
    "\n",
    "for i in range(max_x):\n",
    "    for j in range(max_y):\n",
    "        if lines[i][j] in \"Sa\": ## 确定起点(part1、2差别就是这里可以有多个起点)\n",
    "            queue.append((0, i, j)) \n",
    "            \n",
    "for (nsteps, i, j) in queue:  \n",
    "    if lines[i][j] == \"E\":\n",
    "        print(nsteps) \n",
    "        break \n",
    "    else:\n",
    "        for neighbor_x, neighbor_y in get_neighbors(i, j, max_x, max_y):\n",
    "            if (neighbor_x, neighbor_y) not in visited and get_ord(lines[neighbor_x][neighbor_y]) - get_ord(lines[i][j]) <= 1:\n",
    "                visited.add((neighbor_x, neighbor_y))\n",
    "                queue.append((nsteps+1, neighbor_x, neighbor_y))\n",
    "            "
   ]
  },
  {
   "cell_type": "code",
   "execution_count": null,
   "id": "e7b70344",
   "metadata": {},
   "outputs": [],
   "source": []
  }
 ],
 "metadata": {
  "kernelspec": {
   "display_name": "Python 3 (ipykernel)",
   "language": "python",
   "name": "python3"
  },
  "language_info": {
   "codemirror_mode": {
    "name": "ipython",
    "version": 3
   },
   "file_extension": ".py",
   "mimetype": "text/x-python",
   "name": "python",
   "nbconvert_exporter": "python",
   "pygments_lexer": "ipython3",
   "version": "3.9.7"
  },
  "toc": {
   "base_numbering": 1,
   "nav_menu": {},
   "number_sections": true,
   "sideBar": true,
   "skip_h1_title": false,
   "title_cell": "Table of Contents",
   "title_sidebar": "Contents",
   "toc_cell": false,
   "toc_position": {},
   "toc_section_display": true,
   "toc_window_display": false
  }
 },
 "nbformat": 4,
 "nbformat_minor": 5
}
