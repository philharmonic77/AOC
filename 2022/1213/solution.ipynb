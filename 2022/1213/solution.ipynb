{
 "cells": [
  {
   "cell_type": "markdown",
   "id": "a697c408",
   "metadata": {},
   "source": [
    "## part1"
   ]
  },
  {
   "cell_type": "code",
   "execution_count": 1,
   "id": "b129d2ce",
   "metadata": {},
   "outputs": [],
   "source": [
    "## 关于题目，有两个例子不是很好理解\n",
    "# == Pair 7 ==\n",
    "# - Compare [[[]]] vs [[]]\n",
    "#   - Compare [[]] vs []\n",
    "#     - Right side ran out of items, so inputs are not in the right order\n",
    "    \n",
    "# 逐层解析后，左侧len([[]])为1， 右侧len([])为0，题目说右侧run out of items\n",
    "\n",
    "# == Pair 2 ==\n",
    "# - Compare [[1],[2,3,4]] vs [[1],4]\n",
    "#   - Compare [1] vs [1]\n",
    "#     - Compare 1 vs 1\n",
    "#   - Compare [2,3,4] vs 4\n",
    "#     - Mixed types; convert right to [4] and retry comparison\n",
    "#     - Compare [2,3,4] vs [4]\n",
    "#       - Compare 2 vs 4\n",
    "#         - Left side is smaller, so inputs are in the right order \n",
    "\n",
    "# 最后一步，Compare [2,3,4] vs [4]难道不是右侧更先run out of吗？\n",
    "\n",
    "\n",
    "## 为了能继续做下去我暂时忽略了这里的问题，约定为:\n",
    "# 1. 两个list比较，以len较小者的len为主，比较0:len的元素，只要前len个元素符合左小右大的条件就行；\n",
    "#     如果完全一致，再根据len判断，要求len（left）< len(right);\n",
    "# 2. 至于pair2的例子，[]里没有任何元素可以和[[]]里的[]相比，视为得不出结论; 最终对比len。 \n",
    "# 综上，len的对比视为兜底解决方案\n",
    "\n",
    "\n",
    "# 以及 题目似乎遗漏了：从左往右比较，类似数字的进制，只要left在更高的进位上比right小，就不用继续比较了。不要求各个位置上的元素都满足。"
   ]
  },
  {
   "cell_type": "code",
   "execution_count": 2,
   "id": "84411cb4",
   "metadata": {},
   "outputs": [
    {
     "name": "stdout",
     "output_type": "stream",
     "text": [
      "5580\n"
     ]
    }
   ],
   "source": [
    "f = open(\"input.txt\", 'r')\n",
    "lines = f.readlines() \n",
    "lines.append(\" \") ## 防止最后一对数据被遗漏\n",
    "f.close()\n",
    "\n",
    "texts = [] \n",
    "\n",
    "i = 1 \n",
    "tmp = [] \n",
    "for line in lines:\n",
    "    if line.strip() == '':\n",
    "        assert len(tmp) == 2 \n",
    "        texts.append((i, tmp[0], tmp[1]))\n",
    "\n",
    "        tmp = [] \n",
    "        i += 1 \n",
    "    else:\n",
    "        l1 = eval(line.strip())\n",
    "        tmp.append(l1)\n",
    "\n",
    "def make_compare(left, right):\n",
    "    types = (type(left), type(right))\n",
    "    \n",
    "    if types == (int, int):\n",
    "        return (None if left == right else left < right) \n",
    "    elif types == (list, int):\n",
    "        return make_compare(left, [right])\n",
    "    elif types == (int, list):\n",
    "        return make_compare([left], right)\n",
    "    \n",
    "    else:\n",
    "        for x, y in zip(left, right): \n",
    "            result = make_compare(x, y) \n",
    "            if result is not None: ## 从左往右逐个元素比较，任意一步有结果就可以返回，否则继续比较；相等不是结果\n",
    "                return result \n",
    "        return (None if len(left) == len(right) else len(left) < len(right))\n",
    "    \n",
    "ans = [] \n",
    "    \n",
    "for i, left, right in texts:\n",
    "    if make_compare(left, right):\n",
    "        ans.append(i)\n",
    "print(sum(ans))"
   ]
  },
  {
   "cell_type": "code",
   "execution_count": 3,
   "id": "0de60c6f",
   "metadata": {},
   "outputs": [
    {
     "data": {
      "text/plain": [
       "True"
      ]
     },
     "execution_count": 3,
     "metadata": {},
     "output_type": "execute_result"
    }
   ],
   "source": [
    "# 一些例子\n",
    "make_compare([1, 2], [2, 0])"
   ]
  },
  {
   "cell_type": "code",
   "execution_count": 4,
   "id": "b4df721b",
   "metadata": {},
   "outputs": [
    {
     "data": {
      "text/plain": [
       "False"
      ]
     },
     "execution_count": 4,
     "metadata": {},
     "output_type": "execute_result"
    }
   ],
   "source": [
    "make_compare([1, 2], [1, 0])"
   ]
  },
  {
   "cell_type": "code",
   "execution_count": 5,
   "id": "20f0c8b3",
   "metadata": {},
   "outputs": [
    {
     "data": {
      "text/plain": [
       "False"
      ]
     },
     "execution_count": 5,
     "metadata": {},
     "output_type": "execute_result"
    }
   ],
   "source": [
    "## 似乎可以理解为12.3 和 12.04对比\n",
    "make_compare([1, 2, [3]], [1, 2, [0, 4]])"
   ]
  },
  {
   "cell_type": "markdown",
   "id": "64349089",
   "metadata": {},
   "source": [
    "## part2"
   ]
  },
  {
   "cell_type": "code",
   "execution_count": 6,
   "id": "fcc259c1",
   "metadata": {},
   "outputs": [],
   "source": [
    "from functools import cmp_to_key\n",
    "\n",
    "divider1 = [[2]]\n",
    "divider2 = [[6]]\n",
    "\n",
    "## 先清洗下lines \n",
    "clean_data = []\n",
    "for line in lines:\n",
    "    if line.strip() != \"\":\n",
    "        clean_data.append(eval(line.strip()))\n",
    "        \n",
    "clean_data.append(divider1)\n",
    "clean_data.append(divider2)\n",
    "   \n",
    "## 对clean_data进行排序需要自定义一个key    \n",
    "def compare_key(left, right):\n",
    "    if make_compare(left, right) == True:\n",
    "        return -1 \n",
    "    elif make_compare(left, right) == False:\n",
    "        return 1\n",
    "    else:\n",
    "        return 0\n",
    "    \n",
    "sorted_clean_data = sorted(clean_data, key=cmp_to_key(compare_key))"
   ]
  },
  {
   "cell_type": "code",
   "execution_count": 7,
   "id": "9c982fe9",
   "metadata": {},
   "outputs": [
    {
     "name": "stdout",
     "output_type": "stream",
     "text": [
      "26200\n"
     ]
    }
   ],
   "source": [
    "ans = []\n",
    "\n",
    "for i, data in enumerate(sorted_clean_data, 1):\n",
    "    if data == divider1 or data == divider2:\n",
    "        ans.append(i)\n",
    "\n",
    "assert len(ans) == 2 \n",
    "\n",
    "print(ans[0] * ans[1])"
   ]
  },
  {
   "cell_type": "code",
   "execution_count": null,
   "id": "b68693e3",
   "metadata": {},
   "outputs": [],
   "source": []
  }
 ],
 "metadata": {
  "kernelspec": {
   "display_name": "Python 3 (ipykernel)",
   "language": "python",
   "name": "python3"
  },
  "language_info": {
   "codemirror_mode": {
    "name": "ipython",
    "version": 3
   },
   "file_extension": ".py",
   "mimetype": "text/x-python",
   "name": "python",
   "nbconvert_exporter": "python",
   "pygments_lexer": "ipython3",
   "version": "3.9.7"
  },
  "toc": {
   "base_numbering": 1,
   "nav_menu": {},
   "number_sections": true,
   "sideBar": true,
   "skip_h1_title": false,
   "title_cell": "Table of Contents",
   "title_sidebar": "Contents",
   "toc_cell": false,
   "toc_position": {},
   "toc_section_display": true,
   "toc_window_display": false
  }
 },
 "nbformat": 4,
 "nbformat_minor": 5
}
