{
 "cells": [
  {
   "cell_type": "markdown",
   "id": "cd1ff72e",
   "metadata": {},
   "source": [
    "## part1"
   ]
  },
  {
   "cell_type": "code",
   "execution_count": 1,
   "id": "a3ddf9b0",
   "metadata": {},
   "outputs": [
    {
     "name": "stdout",
     "output_type": "stream",
     "text": [
      "7597\n"
     ]
    }
   ],
   "source": [
    "def get_single_prioritize(s):\n",
    "    return ord(s)-96 if s.islower() else ord(s)-38\n",
    "\n",
    "def get_multi_prioritize(string):\n",
    "    return sum([get_single_prioritize(s) for s in string])\n",
    "\n",
    "\n",
    "with open('input.txt', 'r') as f:\n",
    "    lines = f.readlines()\n",
    "    sum_p = 0 \n",
    "    for line in lines:\n",
    "        mid = int(len(line.strip()) / 2) \n",
    "        left = line[:mid]\n",
    "        right = line[mid:]\n",
    "        common = ''.join(set(left).intersection(set(right)))\n",
    "        sum_p += get_multi_prioritize(common)\n",
    "print(sum_p)"
   ]
  },
  {
   "cell_type": "code",
   "execution_count": null,
   "id": "8472a4c3",
   "metadata": {},
   "outputs": [],
   "source": []
  },
  {
   "cell_type": "code",
   "execution_count": null,
   "id": "9c4e46d7",
   "metadata": {},
   "outputs": [],
   "source": [
    "s1 = set([1,2,3])\n",
    "s2 = set([2,3,4])\n"
   ]
  },
  {
   "cell_type": "markdown",
   "id": "c0ccbc8f",
   "metadata": {},
   "source": [
    "## part2"
   ]
  },
  {
   "cell_type": "code",
   "execution_count": 23,
   "id": "9a97038c",
   "metadata": {},
   "outputs": [
    {
     "name": "stdout",
     "output_type": "stream",
     "text": [
      "2607\n"
     ]
    }
   ],
   "source": [
    "with open('input.txt', 'r') as f:\n",
    "    lines = f.readlines()\n",
    "    sum_p = 0 \n",
    "    group = []\n",
    "    for line in lines:\n",
    "        if len(group) < 3:\n",
    "            group.append(line.strip())\n",
    "        if len(group) == 3:\n",
    "            common = ''.join(set(group[0]).intersection(set(group[1])).intersection(set(group[2])))\n",
    "            assert len(common) == 1  \n",
    "            sum_p += get_single_prioritize(common)  \n",
    "            group = []\n",
    "print(sum_p)"
   ]
  },
  {
   "cell_type": "code",
   "execution_count": null,
   "id": "65852eda",
   "metadata": {},
   "outputs": [],
   "source": []
  }
 ],
 "metadata": {
  "kernelspec": {
   "display_name": "Python 3 (ipykernel)",
   "language": "python",
   "name": "python3"
  },
  "language_info": {
   "codemirror_mode": {
    "name": "ipython",
    "version": 3
   },
   "file_extension": ".py",
   "mimetype": "text/x-python",
   "name": "python",
   "nbconvert_exporter": "python",
   "pygments_lexer": "ipython3",
   "version": "3.9.7"
  },
  "toc": {
   "base_numbering": 1,
   "nav_menu": {},
   "number_sections": true,
   "sideBar": true,
   "skip_h1_title": false,
   "title_cell": "Table of Contents",
   "title_sidebar": "Contents",
   "toc_cell": false,
   "toc_position": {},
   "toc_section_display": true,
   "toc_window_display": false
  }
 },
 "nbformat": 4,
 "nbformat_minor": 5
}
