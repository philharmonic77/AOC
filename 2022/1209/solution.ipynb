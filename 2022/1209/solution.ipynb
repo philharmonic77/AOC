{
 "cells": [
  {
   "cell_type": "markdown",
   "id": "47261105",
   "metadata": {},
   "source": [
    "## part1"
   ]
  },
  {
   "cell_type": "code",
   "execution_count": 1,
   "id": "3d6078ef",
   "metadata": {},
   "outputs": [
    {
     "name": "stdout",
     "output_type": "stream",
     "text": [
      "6243\n"
     ]
    }
   ],
   "source": [
    "start = (0, 0)\n",
    "head = (0, 0)\n",
    "tail = (0, 0)\n",
    "tail_trace = [(0, 0)]\n",
    "\n",
    "def head_move(direction, cur_head_xy):\n",
    "    if direction == \"R\":\n",
    "        return cur_head_xy[0]+1, cur_head_xy[1]\n",
    "    elif direction == \"L\":\n",
    "        return cur_head_xy[0]-1, cur_head_xy[1]\n",
    "    elif direction == \"U\":\n",
    "        return cur_head_xy[0], cur_head_xy[1]+1\n",
    "    elif direction == \"D\":\n",
    "        return cur_head_xy[0], cur_head_xy[1]-1\n",
    "    else:\n",
    "        raise ValueError(\"wrong direction:{}\".format(direction)) ## 参数错误则抛ValueError异常\n",
    "        \n",
    "def tail_move(head_xy, cur_tail_xy):\n",
    "    delta_x = head_xy[0] - cur_tail_xy[0] \n",
    "    delta_y = head_xy[1] - cur_tail_xy[1] \n",
    "    if abs(delta_x) <= 1 and abs(delta_y) <= 1:\n",
    "        return cur_tail_xy  \n",
    "    elif abs(delta_x) == 2:\n",
    "        return (cur_tail_xy[0]+int(delta_x/abs(delta_x)), head_xy[1]) \n",
    "    elif abs(delta_y) == 2:\n",
    "        return (head_xy[0], cur_tail_xy[1]+int(delta_y/abs(delta_y)))\n",
    "    else:\n",
    "        raise ValueError(f\"wrong situation! head:{head_xy}, tail:{cur_tail_xy}\")\n",
    "        \n",
    "        \n",
    "\n",
    "with open(\"input.txt\", \"r\") as f: \n",
    "    lines = f.readlines() \n",
    "    for line in lines:\n",
    "        direction, steps = line.strip().split(' ')\n",
    "        for _ in range(int(steps)):\n",
    "            head = head_move(direction, head)\n",
    "            tail = tail_move(head, tail)\n",
    "            tail_trace.append(tail)\n",
    "            \n",
    "print(len(set(tail_trace)))"
   ]
  },
  {
   "cell_type": "markdown",
   "id": "c3674481",
   "metadata": {},
   "source": [
    "## part2"
   ]
  },
  {
   "cell_type": "code",
   "execution_count": 2,
   "id": "2334c430",
   "metadata": {},
   "outputs": [
    {
     "name": "stdout",
     "output_type": "stream",
     "text": [
      "2630\n"
     ]
    }
   ],
   "source": [
    "state = [(0, 0) for _ in range(10)]\n",
    "tail_trace = [(0, 0)]\n",
    "\n",
    "def tail_move(head_xy, cur_tail_xy):\n",
    "    delta_x = head_xy[0] - cur_tail_xy[0] \n",
    "    delta_y = head_xy[1] - cur_tail_xy[1] \n",
    "    if abs(delta_x) <= 1 and abs(delta_y) <= 1:\n",
    "        return cur_tail_xy  \n",
    "    elif abs(delta_x) == 2 and abs(delta_y) <= 1:\n",
    "        return (cur_tail_xy[0]+int(delta_x/abs(delta_x)), head_xy[1]) \n",
    "    elif abs(delta_y) == 2 and abs(delta_x) <= 1:\n",
    "        return (head_xy[0], cur_tail_xy[1]+int(delta_y/abs(delta_y)))\n",
    "    \n",
    "    ## 多了下面这种情况\n",
    "    elif abs(delta_x) == 2 and abs(delta_y) == 2:\n",
    "        return (int((head_xy[0] + cur_tail_xy[0])/2), int((head_xy[1] + cur_tail_xy[1])/2))   \n",
    "    else:\n",
    "        raise ValueError(f\"wrong situation! head:{head_xy}, tail:{cur_tail_xy}\")\n",
    "\n",
    "with open(\"input.txt\", \"r\") as f: \n",
    "    lines = f.readlines() \n",
    "    for line in lines:\n",
    "        direction, steps = line.strip().split(' ')\n",
    "        for _ in range(int(steps)):\n",
    "            state[0] = head_move(direction, state[0])\n",
    "            for i in range(1, 10): \n",
    "                state[i] = tail_move(state[i-1], state[i])\n",
    "                tail_trace.append(state[-1])\n",
    "            \n",
    "print(len(set(tail_trace)))          "
   ]
  },
  {
   "cell_type": "code",
   "execution_count": 3,
   "id": "6e82918b",
   "metadata": {},
   "outputs": [],
   "source": [
    "## example\n",
    "\n",
    "# [(3, -5), (2, -4), (2, -3), (1, -2), (1, -1), (0, 0), (0, 0), (0, 0), (0, 0), (0, 0)] # stable \n",
    "# [(4, -5), (2, -4), (2, -3), (1, -2), (1, -1), (0, 0), (0, 0), (0, 0), (0, 0), (0, 0)]\n",
    "# [(4, -5), (3, -5), (2, -3), (1, -2), (1, -1), (0, 0), (0, 0), (0, 0), (0, 0), (0, 0)]\n",
    "# [(4, -5), (3, -5), (3, -4), (1, -2), (1, -1), (0, 0), (0, 0), (0, 0), (0, 0), (0, 0)]\n",
    "# [(4, -5), (3, -5), (3, -4), (2, -4), (1, -1), (0, 0), (0, 0), (0, 0), (0, 0), (0, 0)]"
   ]
  }
 ],
 "metadata": {
  "kernelspec": {
   "display_name": "Python 3 (ipykernel)",
   "language": "python",
   "name": "python3"
  },
  "language_info": {
   "codemirror_mode": {
    "name": "ipython",
    "version": 3
   },
   "file_extension": ".py",
   "mimetype": "text/x-python",
   "name": "python",
   "nbconvert_exporter": "python",
   "pygments_lexer": "ipython3",
   "version": "3.9.7"
  },
  "toc": {
   "base_numbering": 1,
   "nav_menu": {},
   "number_sections": true,
   "sideBar": true,
   "skip_h1_title": false,
   "title_cell": "Table of Contents",
   "title_sidebar": "Contents",
   "toc_cell": false,
   "toc_position": {},
   "toc_section_display": true,
   "toc_window_display": false
  }
 },
 "nbformat": 4,
 "nbformat_minor": 5
}
