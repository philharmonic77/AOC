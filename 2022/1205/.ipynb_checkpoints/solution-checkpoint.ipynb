{
 "cells": [
  {
   "cell_type": "markdown",
   "id": "d6bcda97",
   "metadata": {},
   "source": [
    "## part1"
   ]
  },
  {
   "cell_type": "code",
   "execution_count": 1,
   "id": "a05233dc",
   "metadata": {},
   "outputs": [],
   "source": [
    "state_transpose = [] ## state_transpose是原始数据，需要转置，所以叫transpose\n",
    "movements = []\n",
    "with open('input.txt', 'r') as f:\n",
    "    lines = f.readlines() \n",
    "    for line in lines:\n",
    "        if line.startswith('['):\n",
    "            line = line.strip()[1::4].strip() \n",
    "            state_transpose.append(line)\n",
    "        if line.startswith('m'):\n",
    "            movements.append(line.strip())\n",
    "\n",
    "## 原始数据里一列是一个tower，这里转成一行一个tower，tower里top的元素放在后面（越top越优先移动）；空元素删除；\n",
    "num_tower = len(state_transpose[0])   # 9\n",
    "max_init_height = len(state_transpose) # 8\n",
    "state = [[state_transpose[max_init_height-j][i] \n",
    "          for j in range(1, max_init_height+1) \n",
    "          if state_transpose[max_init_height-j][i] != ' ']\n",
    "         for i in range(num_tower)] "
   ]
  },
  {
   "cell_type": "code",
   "execution_count": 2,
   "id": "e1a5fc47",
   "metadata": {},
   "outputs": [
    {
     "data": {
      "text/plain": [
       "['N   R   C',\n",
       " 'TJ  SJ  N',\n",
       " 'BZ HMZ  D',\n",
       " 'SP GLHZ T',\n",
       " 'QD FDVLSM',\n",
       " 'HFVJCWPWL',\n",
       " 'GSHZZTFVH',\n",
       " 'RHZMTMTQW']"
      ]
     },
     "execution_count": 2,
     "metadata": {},
     "output_type": "execute_result"
    }
   ],
   "source": [
    "state_transpose"
   ]
  },
  {
   "cell_type": "code",
   "execution_count": 3,
   "id": "647f9752",
   "metadata": {
    "scrolled": true
   },
   "outputs": [
    {
     "data": {
      "text/plain": [
       "[['R', 'G', 'H', 'Q', 'S', 'B', 'T', 'N'],\n",
       " ['H', 'S', 'F', 'D', 'P', 'Z', 'J'],\n",
       " ['Z', 'H', 'V'],\n",
       " ['M', 'Z', 'J', 'F', 'G', 'H'],\n",
       " ['T', 'Z', 'C', 'D', 'L', 'M', 'S', 'R'],\n",
       " ['M', 'T', 'W', 'V', 'H', 'Z', 'J'],\n",
       " ['T', 'F', 'P', 'L', 'Z'],\n",
       " ['Q', 'V', 'W', 'S'],\n",
       " ['W', 'H', 'L', 'M', 'T', 'D', 'N', 'C']]"
      ]
     },
     "execution_count": 3,
     "metadata": {},
     "output_type": "execute_result"
    }
   ],
   "source": [
    "state "
   ]
  },
  {
   "cell_type": "code",
   "execution_count": 4,
   "id": "ef076fd0",
   "metadata": {},
   "outputs": [],
   "source": [
    "# 预备知识\n",
    "# l1 = []\n",
    "# l2 = [1,2,3]\n",
    "# l1.append(l2.pop())\n",
    "# print(l1)\n",
    "# print(l2)\n",
    "# list append extend"
   ]
  },
  {
   "cell_type": "code",
   "execution_count": 5,
   "id": "94bfe119",
   "metadata": {},
   "outputs": [],
   "source": [
    "def execute_move(state, single_move):\n",
    "    tmp = single_move.split(' ')\n",
    "    quantity, from_index, to_index = int(tmp[1]), int(tmp[3])-1, int(tmp[5])-1 ## move命令里是从1开始编号\n",
    "    for i in range(quantity):\n",
    "        state[to_index].append(state[from_index].pop())\n",
    "    return state "
   ]
  },
  {
   "cell_type": "code",
   "execution_count": 6,
   "id": "443d3490",
   "metadata": {},
   "outputs": [],
   "source": [
    "for move in movements:\n",
    "    state = execute_move(state, move)"
   ]
  },
  {
   "cell_type": "code",
   "execution_count": 7,
   "id": "3b86b6b5",
   "metadata": {},
   "outputs": [
    {
     "data": {
      "text/plain": [
       "[['P', 'D', 'P'],\n",
       " ['B', 'N', 'R', 'H', 'J', 'T', 'Q', 'M', 'T'],\n",
       " ['S', 'W'],\n",
       " ['H', 'V', 'F', 'W', 'M', 'D', 'L', 'S', 'T', 'Z', 'L'],\n",
       " ['C', 'G', 'Q', 'H', 'F', 'F', 'T'],\n",
       " ['N', 'M', 'Z', 'H', 'Z', 'Z', 'D'],\n",
       " ['S'],\n",
       " ['J'],\n",
       " ['Z', 'M', 'C', 'H', 'V', 'L', 'Z', 'G', 'J', 'S', 'W', 'H', 'T', 'R', 'V']]"
      ]
     },
     "execution_count": 7,
     "metadata": {},
     "output_type": "execute_result"
    }
   ],
   "source": [
    "state "
   ]
  },
  {
   "cell_type": "code",
   "execution_count": 8,
   "id": "6ff10afb",
   "metadata": {},
   "outputs": [
    {
     "data": {
      "text/plain": [
       "'PTWLTDSJV'"
      ]
     },
     "execution_count": 8,
     "metadata": {},
     "output_type": "execute_result"
    }
   ],
   "source": [
    "''.join([tower[-1] for tower in state])"
   ]
  },
  {
   "cell_type": "markdown",
   "id": "2741633f",
   "metadata": {},
   "source": [
    "## part2"
   ]
  },
  {
   "cell_type": "code",
   "execution_count": 9,
   "id": "692e6927",
   "metadata": {},
   "outputs": [],
   "source": [
    "state_transpose = [] ## state_transpose是原始数据，需要转置，所以叫transpose\n",
    "movements = []\n",
    "with open('input.txt', 'r') as f:\n",
    "    lines = f.readlines() \n",
    "    for line in lines:\n",
    "        if line.startswith('['):\n",
    "            line = line.strip()[1::4].strip() \n",
    "            state_transpose.append(line)\n",
    "        if line.startswith('m'):\n",
    "            movements.append(line.strip())\n",
    "\n",
    "## 原始数据里一列是一个tower，这里转成一行一个tower，tower里top的元素放在后面（越top越优先移动）；空元素删除；\n",
    "num_tower = len(state_transpose[0])   # 9\n",
    "max_init_height = len(state_transpose) # 8\n",
    "state = [[state_transpose[max_init_height-j][i] \n",
    "              for j in range(1, max_init_height+1) \n",
    "              if state_transpose[max_init_height-j][i] != ' ']\n",
    "         for i in range(num_tower)] "
   ]
  },
  {
   "cell_type": "code",
   "execution_count": 10,
   "id": "124cbc0d",
   "metadata": {},
   "outputs": [],
   "source": [
    "def execute_move(state, single_move):\n",
    "    tmp = single_move.split(' ')\n",
    "    quantity, from_index, to_index = int(tmp[1]), int(tmp[3])-1, int(tmp[5])-1 ## move命令里是从1开始编号\n",
    "    state[to_index].extend(state[from_index][-quantity:])\n",
    "    assert len(state[from_index][-quantity:]) == quantity\n",
    "    for i in range(quantity):\n",
    "        state[from_index].pop()\n",
    "    return state "
   ]
  },
  {
   "cell_type": "code",
   "execution_count": 11,
   "id": "7f47ee6f",
   "metadata": {},
   "outputs": [
    {
     "data": {
      "text/plain": [
       "[['V', 'D', 'W'],\n",
       " ['Z', 'D', 'H', 'M', 'L', 'S', 'J', 'W', 'Z'],\n",
       " ['S', 'M'],\n",
       " ['H', 'F', 'R', 'N', 'Z', 'S', 'F', 'M', 'M', 'J', 'F'],\n",
       " ['R', 'D', 'T', 'H', 'H', 'T', 'V'],\n",
       " ['S', 'N', 'H', 'T', 'Z', 'T', 'G'],\n",
       " ['G'],\n",
       " ['Z'],\n",
       " ['Z', 'W', 'T', 'C', 'Q', 'C', 'Q', 'H', 'P', 'J', 'L', 'L', 'B', 'V', 'P']]"
      ]
     },
     "execution_count": 11,
     "metadata": {},
     "output_type": "execute_result"
    }
   ],
   "source": [
    "for move in movements:\n",
    "    state = execute_move(state, move) \n",
    "state "
   ]
  },
  {
   "cell_type": "code",
   "execution_count": 12,
   "id": "25e33693",
   "metadata": {},
   "outputs": [
    {
     "data": {
      "text/plain": [
       "'WZMFVGGZP'"
      ]
     },
     "execution_count": 12,
     "metadata": {},
     "output_type": "execute_result"
    }
   ],
   "source": [
    "''.join([tower[-1] for tower in state])"
   ]
  },
  {
   "cell_type": "code",
   "execution_count": null,
   "id": "e1454ea8",
   "metadata": {},
   "outputs": [],
   "source": []
  }
 ],
 "metadata": {
  "kernelspec": {
   "display_name": "Python 3 (ipykernel)",
   "language": "python",
   "name": "python3"
  },
  "language_info": {
   "codemirror_mode": {
    "name": "ipython",
    "version": 3
   },
   "file_extension": ".py",
   "mimetype": "text/x-python",
   "name": "python",
   "nbconvert_exporter": "python",
   "pygments_lexer": "ipython3",
   "version": "3.9.7"
  },
  "toc": {
   "base_numbering": 1,
   "nav_menu": {},
   "number_sections": true,
   "sideBar": true,
   "skip_h1_title": false,
   "title_cell": "Table of Contents",
   "title_sidebar": "Contents",
   "toc_cell": false,
   "toc_position": {},
   "toc_section_display": true,
   "toc_window_display": false
  }
 },
 "nbformat": 4,
 "nbformat_minor": 5
}
