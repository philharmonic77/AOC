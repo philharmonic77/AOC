{
 "cells": [
  {
   "cell_type": "markdown",
   "id": "9b183f63",
   "metadata": {},
   "source": [
    "## part1"
   ]
  },
  {
   "cell_type": "code",
   "execution_count": 1,
   "id": "cc5ba336",
   "metadata": {},
   "outputs": [
    {
     "name": "stdout",
     "output_type": "stream",
     "text": [
      "14040\n"
     ]
    }
   ],
   "source": [
    "cycles = [20, 60, 100, 140, 180, 220]\n",
    "results = []\n",
    "\n",
    "cycle = 0 \n",
    "x = 1 \n",
    "with open('input.txt', 'r') as f:\n",
    "    lines = f.readlines()\n",
    "    for line in lines:\n",
    "        if line[:4] == 'noop':\n",
    "            if cycle in cycles:\n",
    "                results.append(x*cycle)\n",
    "            cycle += 1 \n",
    "        elif line[:4] == 'addx':\n",
    "            if (cycle+1) in cycles:\n",
    "                results.append(x*(cycle+1))\n",
    "            if (cycle+2) in cycles:\n",
    "                results.append(x*(cycle+2))\n",
    "            cycle += 2 \n",
    "            x += int(line[5:]) ## 本次cycle结束才会更新x\n",
    "\n",
    "print(sum(results))"
   ]
  },
  {
   "cell_type": "markdown",
   "id": "8cf2c578",
   "metadata": {},
   "source": [
    "## part2"
   ]
  },
  {
   "cell_type": "code",
   "execution_count": 3,
   "id": "c9611720",
   "metadata": {},
   "outputs": [
    {
     "data": {
      "text/plain": [
       "['####..##...##....##.####...##.####.#....',\n",
       " '...#.#..#.#..#....#....#....#.#....#....',\n",
       " '..#..#....#.......#...#.....#.###..#....',\n",
       " '.#...#.##.#.......#..#......#.#....#....',\n",
       " '#....#..#.#..#.#..#.#....#..#.#....#....',\n",
       " '####..###..##...##..####..##..#....####.']"
      ]
     },
     "execution_count": 3,
     "metadata": {},
     "output_type": "execute_result"
    }
   ],
   "source": [
    "nrows = 6 \n",
    "ncols = 40 \n",
    "result = ['' for _ in range(nrows)]\n",
    "\n",
    "cycle = 0 ## CRT \n",
    "x = 1  ## 精灵位置的中间那个点\n",
    "\n",
    "\n",
    "def draw(x, cycle):\n",
    "    cur_row = cycle // ncols\n",
    "    cur_col = cycle % ncols  \n",
    "    \n",
    "    if x-1 <= cur_col <= x+1:\n",
    "        result[cur_row] += '#' ## 字符串拼接使用“+”\n",
    "    else:\n",
    "        result[cur_row] += '.'\n",
    "\n",
    "\n",
    "with open('input.txt', 'r') as f:\n",
    "    lines = f.readlines()\n",
    "    for line in lines:\n",
    "        if line[:4] == 'noop':\n",
    "            draw(x, cycle)\n",
    "            cycle += 1 \n",
    "        elif line[:4] == 'addx':\n",
    "            for _ in range(2):\n",
    "                draw(x, cycle)\n",
    "                cycle += 1 \n",
    "            x += int(line[5:])\n",
    "            \n",
    "\n",
    "\n",
    "result"
   ]
  },
  {
   "cell_type": "code",
   "execution_count": null,
   "id": "215bf43c",
   "metadata": {},
   "outputs": [],
   "source": []
  }
 ],
 "metadata": {
  "kernelspec": {
   "display_name": "Python 3 (ipykernel)",
   "language": "python",
   "name": "python3"
  },
  "language_info": {
   "codemirror_mode": {
    "name": "ipython",
    "version": 3
   },
   "file_extension": ".py",
   "mimetype": "text/x-python",
   "name": "python",
   "nbconvert_exporter": "python",
   "pygments_lexer": "ipython3",
   "version": "3.9.7"
  },
  "toc": {
   "base_numbering": 1,
   "nav_menu": {},
   "number_sections": true,
   "sideBar": true,
   "skip_h1_title": false,
   "title_cell": "Table of Contents",
   "title_sidebar": "Contents",
   "toc_cell": false,
   "toc_position": {},
   "toc_section_display": true,
   "toc_window_display": false
  }
 },
 "nbformat": 4,
 "nbformat_minor": 5
}
