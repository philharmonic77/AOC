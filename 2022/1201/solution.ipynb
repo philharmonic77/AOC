{
 "cells": [
  {
   "cell_type": "markdown",
   "id": "90c5cead",
   "metadata": {},
   "source": [
    "## part1"
   ]
  },
  {
   "cell_type": "code",
   "execution_count": 2,
   "id": "06e7c3e1",
   "metadata": {},
   "outputs": [
    {
     "name": "stdout",
     "output_type": "stream",
     "text": [
      "66719\n"
     ]
    }
   ],
   "source": [
    "max_calories = 0 \n",
    "with open('input.txt', 'r') as f:\n",
    "    lines = f.readlines()\n",
    "    sum_total = 0 \n",
    "    for line in lines:\n",
    "        if line.strip() != '':\n",
    "            sum_total += int(line.strip())\n",
    "        else:\n",
    "            if sum_total > max_calories:\n",
    "                max_calories = sum_total \n",
    "            sum_total = 0 \n",
    "print(max_calories)"
   ]
  },
  {
   "cell_type": "markdown",
   "id": "83e961e0",
   "metadata": {},
   "source": [
    "## part2"
   ]
  },
  {
   "cell_type": "code",
   "execution_count": 5,
   "id": "a1001766",
   "metadata": {},
   "outputs": [
    {
     "name": "stdout",
     "output_type": "stream",
     "text": [
      "198551\n"
     ]
    }
   ],
   "source": [
    "calories = [] \n",
    "with open('input.txt', 'r') as f:\n",
    "    lines = f.readlines()\n",
    "    sum_total = 0 \n",
    "    for line in lines:\n",
    "        if line.strip() != '':\n",
    "            sum_total += int(line.strip())\n",
    "        else:  \n",
    "            calories.append(sum_total)\n",
    "            sum_total = 0 \n",
    "            \n",
    "calories.sort(reverse=True)\n",
    "print(sum(calories[:3]))"
   ]
  },
  {
   "cell_type": "code",
   "execution_count": null,
   "id": "483ea8c0",
   "metadata": {},
   "outputs": [],
   "source": []
  }
 ],
 "metadata": {
  "kernelspec": {
   "display_name": "Python 3 (ipykernel)",
   "language": "python",
   "name": "python3"
  },
  "language_info": {
   "codemirror_mode": {
    "name": "ipython",
    "version": 3
   },
   "file_extension": ".py",
   "mimetype": "text/x-python",
   "name": "python",
   "nbconvert_exporter": "python",
   "pygments_lexer": "ipython3",
   "version": "3.9.7"
  },
  "toc": {
   "base_numbering": 1,
   "nav_menu": {},
   "number_sections": true,
   "sideBar": true,
   "skip_h1_title": false,
   "title_cell": "Table of Contents",
   "title_sidebar": "Contents",
   "toc_cell": false,
   "toc_position": {},
   "toc_section_display": true,
   "toc_window_display": false
  }
 },
 "nbformat": 4,
 "nbformat_minor": 5
}
