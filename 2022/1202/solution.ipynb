{
 "cells": [
  {
   "cell_type": "markdown",
   "id": "44ea7ab0",
   "metadata": {},
   "source": [
    "## part1"
   ]
  },
  {
   "cell_type": "code",
   "execution_count": 3,
   "id": "43422c2e",
   "metadata": {},
   "outputs": [],
   "source": [
    "shape_score_dict = {\n",
    "    \"X\": 1,\n",
    "    \"Y\": 2,\n",
    "    \"Z\": 3\n",
    "}\n",
    "outcome_score_dict = {\n",
    "    (\"A\", \"Y\"): 6,\n",
    "    (\"B\", \"Z\"): 6,\n",
    "    (\"C\", \"X\"): 6,\n",
    "    (\"A\", \"X\"): 3,\n",
    "    (\"B\", \"Y\"): 3,\n",
    "    (\"C\", \"Z\"): 3,\n",
    "    (\"A\", \"Z\"): 0,\n",
    "    (\"B\", \"X\"): 0,\n",
    "    (\"C\", \"Y\"): 0\n",
    "}"
   ]
  },
  {
   "cell_type": "code",
   "execution_count": 21,
   "id": "091cc7be",
   "metadata": {},
   "outputs": [
    {
     "name": "stdout",
     "output_type": "stream",
     "text": [
      "11666\n"
     ]
    }
   ],
   "source": [
    "final_score = 0 \n",
    "with open('input.txt', 'r') as f:\n",
    "    lines = f.readlines()\n",
    "    for line in lines:\n",
    "        line = line.replace(' ', '')\n",
    "        e0, e1 = line[0], line[1] \n",
    "        final_score += shape_score_dict[e1]\n",
    "        final_score += outcome_score_dict[(e0, e1)]\n",
    "print(final_score)        "
   ]
  },
  {
   "cell_type": "markdown",
   "id": "2d1e7be6",
   "metadata": {},
   "source": [
    "## part2"
   ]
  },
  {
   "cell_type": "code",
   "execution_count": 25,
   "id": "b46a6be6",
   "metadata": {},
   "outputs": [],
   "source": [
    "outcome_score_dict = {\n",
    "    \"X\": 0,\n",
    "    \"Y\": 3,\n",
    "    \"Z\": 6\n",
    "}\n",
    "shape_score_dict = {\n",
    "    \"A\": 1,\n",
    "    \"B\": 2,\n",
    "    \"C\": 3\n",
    "}\n",
    "choice_dict = {\n",
    "    (\"A\", \"Y\"): \"A\",\n",
    "    (\"B\", \"Z\"): \"C\",\n",
    "    (\"C\", \"X\"): \"B\",\n",
    "    (\"A\", \"X\"): \"C\",\n",
    "    (\"B\", \"Y\"): \"B\",\n",
    "    (\"C\", \"Z\"): \"A\",\n",
    "    (\"A\", \"Z\"): \"B\",\n",
    "    (\"B\", \"X\"): \"A\",\n",
    "    (\"C\", \"Y\"): \"C\"\n",
    "}"
   ]
  },
  {
   "cell_type": "code",
   "execution_count": 26,
   "id": "a2db3b6d",
   "metadata": {},
   "outputs": [
    {
     "name": "stdout",
     "output_type": "stream",
     "text": [
      "12767\n"
     ]
    }
   ],
   "source": [
    "final_score = 0 \n",
    "with open('input.txt', 'r') as f:\n",
    "    lines = f.readlines()\n",
    "    for line in lines:\n",
    "        line = line.replace(' ', '')\n",
    "        e0, e1 = line[0], line[1] \n",
    "        final_score += outcome_score_dict[e1]\n",
    "        final_score += shape_score_dict[choice_dict[(e0, e1)]]\n",
    "print(final_score)  "
   ]
  },
  {
   "cell_type": "code",
   "execution_count": null,
   "id": "6e2aa4ac",
   "metadata": {},
   "outputs": [],
   "source": []
  }
 ],
 "metadata": {
  "kernelspec": {
   "display_name": "Python 3 (ipykernel)",
   "language": "python",
   "name": "python3"
  },
  "language_info": {
   "codemirror_mode": {
    "name": "ipython",
    "version": 3
   },
   "file_extension": ".py",
   "mimetype": "text/x-python",
   "name": "python",
   "nbconvert_exporter": "python",
   "pygments_lexer": "ipython3",
   "version": "3.9.7"
  },
  "toc": {
   "base_numbering": 1,
   "nav_menu": {},
   "number_sections": true,
   "sideBar": true,
   "skip_h1_title": false,
   "title_cell": "Table of Contents",
   "title_sidebar": "Contents",
   "toc_cell": false,
   "toc_position": {},
   "toc_section_display": true,
   "toc_window_display": false
  }
 },
 "nbformat": 4,
 "nbformat_minor": 5
}
