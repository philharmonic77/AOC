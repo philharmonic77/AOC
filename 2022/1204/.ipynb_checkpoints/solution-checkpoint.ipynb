{
 "cells": [
  {
   "cell_type": "markdown",
   "id": "a9440a39",
   "metadata": {},
   "source": [
    "## part1"
   ]
  },
  {
   "cell_type": "code",
   "execution_count": 12,
   "id": "ae5cab7c",
   "metadata": {},
   "outputs": [
    {
     "name": "stdout",
     "output_type": "stream",
     "text": [
      "588\n"
     ]
    }
   ],
   "source": [
    "with open('input.txt', 'r') as f:\n",
    "    lines = f.readlines() \n",
    "    count = 0 \n",
    "    for line in lines:\n",
    "        left, right = line.strip().split(',')\n",
    "        a1, a2 = left.split('-')\n",
    "        b1, b2 = right.split('-')\n",
    "        if (int(a1)<=int(b1) and int(a2)>=int(b2)) or (int(b1)<=int(a1) and int(b2)>=int(a2)):\n",
    "            count += 1 \n",
    "print(count)"
   ]
  },
  {
   "cell_type": "markdown",
   "id": "c9113e30",
   "metadata": {},
   "source": [
    "## part2"
   ]
  },
  {
   "cell_type": "code",
   "execution_count": 2,
   "id": "de05408a",
   "metadata": {},
   "outputs": [
    {
     "name": "stdout",
     "output_type": "stream",
     "text": [
      "911\n"
     ]
    }
   ],
   "source": [
    "with open('input.txt', 'r') as f:\n",
    "    lines = f.readlines() \n",
    "    count = 0 \n",
    "    for line in lines:\n",
    "        left, right = line.strip().split(',')\n",
    "        a1, a2 = left.split('-')\n",
    "        b1, b2 = right.split('-')\n",
    "        if int(a2) < int(b1) or int(b2) < int(a1):\n",
    "            pass\n",
    "        else:\n",
    "            count += 1 \n",
    "print(count)"
   ]
  },
  {
   "cell_type": "code",
   "execution_count": null,
   "id": "4b8a6fdc",
   "metadata": {},
   "outputs": [],
   "source": []
  }
 ],
 "metadata": {
  "kernelspec": {
   "display_name": "Python 3 (ipykernel)",
   "language": "python",
   "name": "python3"
  },
  "language_info": {
   "codemirror_mode": {
    "name": "ipython",
    "version": 3
   },
   "file_extension": ".py",
   "mimetype": "text/x-python",
   "name": "python",
   "nbconvert_exporter": "python",
   "pygments_lexer": "ipython3",
   "version": "3.9.7"
  },
  "toc": {
   "base_numbering": 1,
   "nav_menu": {},
   "number_sections": true,
   "sideBar": true,
   "skip_h1_title": false,
   "title_cell": "Table of Contents",
   "title_sidebar": "Contents",
   "toc_cell": false,
   "toc_position": {},
   "toc_section_display": true,
   "toc_window_display": false
  }
 },
 "nbformat": 4,
 "nbformat_minor": 5
}
