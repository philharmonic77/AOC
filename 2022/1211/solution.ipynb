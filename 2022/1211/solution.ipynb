{
 "cells": [
  {
   "cell_type": "code",
   "execution_count": 1,
   "id": "3753e359",
   "metadata": {},
   "outputs": [
    {
     "data": {
      "text/plain": [
       "6"
      ]
     },
     "execution_count": 1,
     "metadata": {},
     "output_type": "execute_result"
    }
   ],
   "source": [
    "## 预备知识\n",
    "a = 2 \n",
    "a = eval(\"a+4\")\n",
    "a "
   ]
  },
  {
   "cell_type": "markdown",
   "id": "c572d81b",
   "metadata": {},
   "source": [
    "## part1"
   ]
  },
  {
   "cell_type": "code",
   "execution_count": 2,
   "id": "1084bfd0",
   "metadata": {},
   "outputs": [],
   "source": [
    "states = []\n",
    "operations = []\n",
    "test_divisions = []\n",
    "throw_to_if_true = []\n",
    "throw_to_if_false = []\n",
    "\n",
    "with open(\"input.txt\", \"r\") as f:\n",
    "    lines = f.readlines()\n",
    "    for line in lines:\n",
    "        if \"Starting\"in line:\n",
    "            tmp = line.strip().replace(' ', '').split(':')[1].split(',')\n",
    "            states.append([int(x) for x in tmp])\n",
    "            \n",
    "        elif \"Operation\" in line:\n",
    "            line = line.strip().split(' ')\n",
    "            if line[-1] == 'old' and line[-2] == '*':\n",
    "                line[-2:] = ['**', '2'] \n",
    "            operations.append(''.join(line[-2:]))\n",
    "            \n",
    "        elif \"Test\" in line:\n",
    "            test_divisions.append(int(line.strip().split(' ')[-1]))\n",
    "        elif \"If true\" in line:\n",
    "            throw_to_if_true.append(int(line.strip().split(' ')[-1]))\n",
    "        elif \"If false\" in line:\n",
    "            throw_to_if_false.append(int(line.strip().split(' ')[-1]))\n",
    "            \n",
    "\n",
    "n_rounds = 20           \n",
    "n_monkeys = len(states)\n",
    "inspect_cnt = [0 for _ in range(n_monkeys)]\n",
    "\n",
    "for x in range(n_rounds): \n",
    "    for i in range(n_monkeys):        \n",
    "        for worry in states[i]: \n",
    "            if operations[i][0] in ('+', '*', '**'):\n",
    "                worry = eval(f\"worry {operations[i]}\")\n",
    "            else:\n",
    "                raise ValueError(\"wrong argument\")\n",
    "                \n",
    "            worry = worry // 3 \n",
    "\n",
    "            if worry % test_divisions[i] == 0:\n",
    "                states[throw_to_if_true[i]].append(worry)\n",
    "            else:\n",
    "                states[throw_to_if_false[i]].append(worry)\n",
    "                \n",
    "            inspect_cnt[i] += 1\n",
    "\n",
    "        ## 清空\n",
    "        states[i] = []\n",
    "        "
   ]
  },
  {
   "cell_type": "code",
   "execution_count": 3,
   "id": "ba389f14",
   "metadata": {},
   "outputs": [
    {
     "name": "stdout",
     "output_type": "stream",
     "text": [
      "112221\n"
     ]
    }
   ],
   "source": [
    "inspect_cnt.sort(reverse=True)\n",
    "print(inspect_cnt[0] * inspect_cnt[1])"
   ]
  },
  {
   "cell_type": "markdown",
   "id": "f9261f66",
   "metadata": {},
   "source": [
    "## part2"
   ]
  },
  {
   "cell_type": "code",
   "execution_count": 4,
   "id": "80a18994",
   "metadata": {},
   "outputs": [],
   "source": [
    "states = []\n",
    "operations = []\n",
    "test_divisions = []\n",
    "throw_to_if_true = []\n",
    "throw_to_if_false = []\n",
    "\n",
    "with open(\"input.txt\", \"r\") as f:\n",
    "    lines = f.readlines()\n",
    "    for line in lines:\n",
    "        if \"Starting\"in line:\n",
    "            tmp = line.strip().replace(' ', '').split(':')[1].split(',')\n",
    "            states.append([int(x) for x in tmp])\n",
    "            \n",
    "        elif \"Operation\" in line:\n",
    "            line = line.strip().split(' ')\n",
    "            if line[-1] == 'old' and line[-2] == '*':\n",
    "                line[-2:] = ['**', '2'] \n",
    "            operations.append(''.join(line[-2:]))\n",
    "            \n",
    "        elif \"Test\" in line:\n",
    "            test_divisions.append(int(line.strip().split(' ')[-1]))\n",
    "        elif \"If true\" in line:\n",
    "            throw_to_if_true.append(int(line.strip().split(' ')[-1]))\n",
    "        elif \"If false\" in line:\n",
    "            throw_to_if_false.append(int(line.strip().split(' ')[-1]))\n",
    "            \n",
    "\n",
    "n_rounds = 10000           \n",
    "n_monkeys = len(states)\n",
    "inspect_cnt = [0 for _ in range(n_monkeys)]\n",
    "\n",
    "## 重点：利用最小公倍数缩小数值.只要能被每一只猴子整除后，余数一致就不会影响后续的throw结果。最终不统计worry，仅统计inspect cnt\n",
    "\n",
    "mod = 1\n",
    "for i in range(n_monkeys):\n",
    "    mod *= test_divisions[i]\n",
    "\n",
    "for x in range(n_rounds):    \n",
    "    for i in range(n_monkeys):        \n",
    "        for worry in states[i]: \n",
    "            worry = eval(f\"worry{operations[i]}\")               \n",
    "            worry %= mod \n",
    "\n",
    "            if worry % test_divisions[i] == 0:\n",
    "                states[throw_to_if_true[i]].append(worry)\n",
    "            else:\n",
    "                states[throw_to_if_false[i]].append(worry)\n",
    "                \n",
    "            inspect_cnt[i] += 1\n",
    "\n",
    "        ## 清空\n",
    "        states[i] = []\n",
    "        "
   ]
  },
  {
   "cell_type": "code",
   "execution_count": 5,
   "id": "41cca9da",
   "metadata": {},
   "outputs": [
    {
     "name": "stdout",
     "output_type": "stream",
     "text": [
      "25272176808\n"
     ]
    }
   ],
   "source": [
    "inspect_cnt.sort(reverse=True)\n",
    "print(inspect_cnt[0] * inspect_cnt[1])"
   ]
  },
  {
   "cell_type": "code",
   "execution_count": null,
   "id": "ef29a716",
   "metadata": {},
   "outputs": [],
   "source": []
  }
 ],
 "metadata": {
  "kernelspec": {
   "display_name": "Python 3 (ipykernel)",
   "language": "python",
   "name": "python3"
  },
  "language_info": {
   "codemirror_mode": {
    "name": "ipython",
    "version": 3
   },
   "file_extension": ".py",
   "mimetype": "text/x-python",
   "name": "python",
   "nbconvert_exporter": "python",
   "pygments_lexer": "ipython3",
   "version": "3.9.7"
  },
  "toc": {
   "base_numbering": 1,
   "nav_menu": {},
   "number_sections": true,
   "sideBar": true,
   "skip_h1_title": false,
   "title_cell": "Table of Contents",
   "title_sidebar": "Contents",
   "toc_cell": false,
   "toc_position": {},
   "toc_section_display": true,
   "toc_window_display": false
  }
 },
 "nbformat": 4,
 "nbformat_minor": 5
}
