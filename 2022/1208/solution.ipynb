{
 "cells": [
  {
   "cell_type": "markdown",
   "id": "954f4137",
   "metadata": {},
   "source": [
    "## part1"
   ]
  },
  {
   "cell_type": "code",
   "execution_count": 1,
   "id": "86a6d26e",
   "metadata": {},
   "outputs": [
    {
     "data": {
      "text/plain": [
       "1812"
      ]
     },
     "execution_count": 1,
     "metadata": {},
     "output_type": "execute_result"
    }
   ],
   "source": [
    "visible_cnt = 0 \n",
    "\n",
    "with open('input.txt', 'r') as f:\n",
    "    lines = [line.strip() for line in f.readlines()] \n",
    "    nrows = len(lines)\n",
    "    ncols = len(lines[0])\n",
    "    \n",
    "    for i in range(nrows):\n",
    "        current_row = [int(x) for x in lines[i]]\n",
    "        \n",
    "        for j in range(ncols):\n",
    "            if i == 0 or j == 0 or i == nrows-1 or j == ncols-1:\n",
    "                visible_cnt += 1 \n",
    "            else:\n",
    "                current_tree = current_row[j]\n",
    "                current_col = [int(x[j]) for x in lines]\n",
    "                if max(current_row[:j]) < current_tree or max(current_row[(j+1):]) < current_tree or \\     ## \\是转行符，一行代码太长\n",
    "                    max(current_col[:i]) < current_tree or max(current_col[(i+1):]) < current_tree:\n",
    "                        visible_cnt += 1 \n",
    "visible_cnt\n"
   ]
  },
  {
   "cell_type": "markdown",
   "id": "dccf5bc7",
   "metadata": {},
   "source": [
    "## part2"
   ]
  },
  {
   "cell_type": "code",
   "execution_count": 9,
   "id": "45f6c47d",
   "metadata": {},
   "outputs": [],
   "source": [
    "## 在列表中找到第一个大于等于该值的数，并返回index；若不存在，距离为列表总长\n",
    "def find_first_num(n, search_list):\n",
    "    search_result = [i >= n for i in search_list]\n",
    "    try: \n",
    "        return search_result.index(True)+1\n",
    "    except: \n",
    "        return len(search_list)"
   ]
  },
  {
   "cell_type": "code",
   "execution_count": 3,
   "id": "a027ead7",
   "metadata": {},
   "outputs": [
    {
     "data": {
      "text/plain": [
       "315495"
      ]
     },
     "execution_count": 3,
     "metadata": {},
     "output_type": "execute_result"
    }
   ],
   "source": [
    "max_score = 0 \n",
    "\n",
    "with open('input.txt', 'r') as f:\n",
    "    lines = [line.strip() for line in f.readlines()] \n",
    "    nrows = len(lines)\n",
    "    ncols = len(lines[0])\n",
    "\n",
    "    for i in range(nrows):\n",
    "        current_row = [int(x) for x in lines[i]]       \n",
    "        for j in range(ncols):\n",
    "            current_tree = current_row[j]\n",
    "            current_col = [int(x[j]) for x in lines]\n",
    "            \n",
    "            left = find_first_num(current_tree, current_row[:j][::-1])\n",
    "            right = find_first_num(current_tree, current_row[(j+1):])\n",
    "            up = find_first_num(current_tree, current_col[:i][::-1])\n",
    "            down = find_first_num(current_tree, current_col[(i+1):])\n",
    "            \n",
    "            score = left*right*up*down \n",
    "            max_score = score if score > max_score else max_score\n",
    "            \n",
    "max_score             "
   ]
  },
  {
   "cell_type": "code",
   "execution_count": null,
   "id": "a1109173",
   "metadata": {},
   "outputs": [],
   "source": []
  }
 ],
 "metadata": {
  "kernelspec": {
   "display_name": "Python 3 (ipykernel)",
   "language": "python",
   "name": "python3"
  },
  "language_info": {
   "codemirror_mode": {
    "name": "ipython",
    "version": 3
   },
   "file_extension": ".py",
   "mimetype": "text/x-python",
   "name": "python",
   "nbconvert_exporter": "python",
   "pygments_lexer": "ipython3",
   "version": "3.9.7"
  },
  "toc": {
   "base_numbering": 1,
   "nav_menu": {},
   "number_sections": true,
   "sideBar": true,
   "skip_h1_title": false,
   "title_cell": "Table of Contents",
   "title_sidebar": "Contents",
   "toc_cell": false,
   "toc_position": {},
   "toc_section_display": true,
   "toc_window_display": false
  }
 },
 "nbformat": 4,
 "nbformat_minor": 5
}
