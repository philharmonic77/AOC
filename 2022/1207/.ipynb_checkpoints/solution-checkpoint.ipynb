{
 "cells": [
  {
   "cell_type": "code",
   "execution_count": 11,
   "id": "61a19570",
   "metadata": {},
   "outputs": [
    {
     "name": "stdout",
     "output_type": "stream",
     "text": [
      "140393372646080\n",
      "140393372646080\n",
      "{'a': {'b': {'c': {}}}}\n",
      "{}\n",
      "140393371604928\n"
     ]
    }
   ],
   "source": [
    "## 预备知识1  https://github.com/blin00/advent-of-code/blob/master/2022/day7.py\n",
    "## https://stackoverflow.com/questions/71744609/two-dictionary-variables-point-to-the-same-object-however-they-affect-eachother\n",
    "path = ['a', 'b', 'c']\n",
    "\n",
    "tree = cur = {} ## 指向同一个内存地址\n",
    "\n",
    "print(id(tree))\n",
    "print(id(cur))\n",
    "\n",
    "for dir in path:\n",
    "    if dir not in cur:\n",
    "        cur[dir] = {}\n",
    "        cur = cur[dir] ## 解除地址绑定，但和“cur[dir]”的新{}共享地址\n",
    "\n",
    "print(tree)\n",
    "print(cur)\n",
    "\n",
    "print(id(cur))\n",
    "\n",
    "## 预备知识2:递归"
   ]
  },
  {
   "cell_type": "code",
   "execution_count": 16,
   "id": "b3a2cbe2",
   "metadata": {},
   "outputs": [
    {
     "name": "stdout",
     "output_type": "stream",
     "text": [
      "{'hello': '1', 'oops': '2'}\n"
     ]
    }
   ],
   "source": [
    "import copy\n",
    "\n",
    "first_dict = {'hello' : '1', 'oops': '2'}\n",
    "second_dict = copy.deepcopy(first_dict)\n",
    "\n",
    "\n",
    "del first_dict['hello']\n",
    "\n",
    "\n",
    "print(second_dict)"
   ]
  },
  {
   "cell_type": "code",
   "execution_count": 18,
   "id": "52662669",
   "metadata": {},
   "outputs": [
    {
     "name": "stdout",
     "output_type": "stream",
     "text": [
      "{'hello': '1', 'oops': {}}\n"
     ]
    }
   ],
   "source": [
    "import copy\n",
    "\n",
    "first_dict = {\n",
    "    'hello' : '1', \n",
    "    'oops': {\n",
    "        'nested value': 'eh oh',\n",
    "    },\n",
    "}\n",
    "second_dict = copy.copy(first_dict)\n",
    "\n",
    "del first_dict['hello']\n",
    "del first_dict['oops']['nested value']\n",
    "\n",
    "print(second_dict)"
   ]
  },
  {
   "cell_type": "markdown",
   "id": "9e367fb9",
   "metadata": {},
   "source": [
    "## part1"
   ]
  },
  {
   "cell_type": "code",
   "execution_count": null,
   "id": "250914ee",
   "metadata": {},
   "outputs": [],
   "source": [
    "## path：列表，root开始到当前的路径，如果前进则append，后退则当前路径变为pop。主要作用是每次cd..后退时，知道返回了哪里\n",
    "## root：字典，用于保存所有探索过的路径，以及文件大小；字典key是directory，或者文件名（有下一层的是direc没有的是文件）；字典value是下一层direc或者文件大小\n",
    "\n",
    "path = [] \n",
    "root = {}\n",
    "current = {}\n",
    "\n",
    "with open('input.txt', 'r') as f:\n",
    "    lines = [line.strip() for line in f.readlines()]\n",
    "    for line in lines:\n",
    "        if line[0] == '$':\n",
    "            if line[2] == 'c':\n",
    "                dir = line[5:] \n",
    "                if dir == '/':\n",
    "                    pass               ## 什么也不用做 \n",
    "                elif dir == '..':\n",
    "                    current = path.pop()  ## 返回上一层，即返回path的最后一个dir\n",
    "                else:\n",
    "                    path.append(dir)      ## 前进一层，加入path\n",
    "                    \n"
   ]
  },
  {
   "cell_type": "code",
   "execution_count": null,
   "id": "3caba056",
   "metadata": {},
   "outputs": [],
   "source": []
  },
  {
   "cell_type": "code",
   "execution_count": null,
   "id": "12610493",
   "metadata": {},
   "outputs": [],
   "source": []
  }
 ],
 "metadata": {
  "kernelspec": {
   "display_name": "Python 3 (ipykernel)",
   "language": "python",
   "name": "python3"
  },
  "language_info": {
   "codemirror_mode": {
    "name": "ipython",
    "version": 3
   },
   "file_extension": ".py",
   "mimetype": "text/x-python",
   "name": "python",
   "nbconvert_exporter": "python",
   "pygments_lexer": "ipython3",
   "version": "3.9.7"
  },
  "toc": {
   "base_numbering": 1,
   "nav_menu": {},
   "number_sections": true,
   "sideBar": true,
   "skip_h1_title": false,
   "title_cell": "Table of Contents",
   "title_sidebar": "Contents",
   "toc_cell": false,
   "toc_position": {},
   "toc_section_display": true,
   "toc_window_display": false
  }
 },
 "nbformat": 4,
 "nbformat_minor": 5
}
